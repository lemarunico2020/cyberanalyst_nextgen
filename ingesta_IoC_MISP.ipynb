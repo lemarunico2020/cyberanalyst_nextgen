{
  "nbformat": 4,
  "nbformat_minor": 0,
  "metadata": {
    "colab": {
      "provenance": [],
      "toc_visible": true,
      "authorship_tag": "ABX9TyN4EHAwfTfXQngXhgD2fOHk",
      "include_colab_link": true
    },
    "kernelspec": {
      "name": "python3",
      "display_name": "Python 3"
    },
    "language_info": {
      "name": "python"
    }
  },
  "cells": [
    {
      "cell_type": "markdown",
      "metadata": {
        "id": "view-in-github",
        "colab_type": "text"
      },
      "source": [
        "<a href=\"https://colab.research.google.com/github/lemarunico2020/cyberanalyst_nextgen/blob/main/ingesta_IoC_MISP.ipynb\" target=\"_parent\"><img src=\"https://colab.research.google.com/assets/colab-badge.svg\" alt=\"Open In Colab\"/></a>"
      ]
    },
    {
      "cell_type": "markdown",
      "source": [
        "# Playbook para Ingesta de IOCs en MISP\n",
        "\n",
        "Este playbook guía paso a paso a analistas de ciberseguridad para ingestar Indicadores de Compromiso (IOCs) en una instancia MISP de manera profesional y segura.\n",
        "\n",
        "## Requisitos Previos\n",
        "\n",
        "1. Tener acceso a una instancia MISP con una clave API\n",
        "2. Un archivo de texto con IOCs (uno por línea)\n",
        "3. Un archivo de texto con credenciales MISP\n",
        "4. Python 3.6+ y las bibliotecas que instalaremos\n",
        "\n",
        "## Estructura de los archivos de entrada\n",
        "\n",
        "### Archivo de IOCs (`iocs.txt`)\n",
        "Debe contener un IOC por línea. Opcionalmente, puede incluir un tipo y comentario separados por comas:\n",
        "\n",
        "8.8.8.8\n",
        "malware-domain.com\n",
        "8175486c21a5376dd9a5cd14edd6af070b4f6e50c10e9b4d881881532b42261e\n",
        "ip-src,192.168.1.1,IP interna sospechosa\n",
        "url,https://malicious-site.com/payload.php,Página de descarga de malware\n",
        "\n",
        "### Archivo de credenciales (`misp_config.txt`)\n",
        "Debe contener las siguientes líneas:\n",
        "url=https://your-misp-instance.com\n",
        "key=YourAPIKey\n",
        "verifycert=False"
      ],
      "metadata": {
        "id": "UApBf0JlMbo8"
      }
    },
    {
      "cell_type": "markdown",
      "source": [],
      "metadata": {
        "id": "E6URoqLvM3ur"
      }
    },
    {
      "cell_type": "code",
      "source": [],
      "metadata": {
        "id": "8Pro_NpmMtyM"
      },
      "execution_count": null,
      "outputs": []
    },
    {
      "cell_type": "markdown",
      "source": [
        "## Paso 1: Instalación de dependencias necesarias\n",
        "\n",
        "Primero, instalemos las bibliotecas necesarias para trabajar con MISP y validar IOCs:"
      ],
      "metadata": {
        "id": "0RJPXvcENEui"
      }
    },
    {
      "cell_type": "code",
      "source": [
        "!pip install pymisp python-dateutil validators ipaddress tqdm colorama PyYAML"
      ],
      "metadata": {
        "colab": {
          "base_uri": "https://localhost:8080/",
          "height": 741
        },
        "id": "Hv8sFyUMNLA7",
        "outputId": "da54683a-baa4-4e50-e823-36abb628fa33"
      },
      "execution_count": 1,
      "outputs": [
        {
          "output_type": "stream",
          "name": "stdout",
          "text": [
            "Collecting pymisp\n",
            "  Downloading pymisp-2.5.8.1-py3-none-any.whl.metadata (8.9 kB)\n",
            "Requirement already satisfied: python-dateutil in /usr/local/lib/python3.11/dist-packages (2.8.2)\n",
            "Collecting validators\n",
            "  Downloading validators-0.34.0-py3-none-any.whl.metadata (3.8 kB)\n",
            "Collecting ipaddress\n",
            "  Downloading ipaddress-1.0.23-py2.py3-none-any.whl.metadata (923 bytes)\n",
            "Requirement already satisfied: tqdm in /usr/local/lib/python3.11/dist-packages (4.67.1)\n",
            "Collecting colorama\n",
            "  Downloading colorama-0.4.6-py2.py3-none-any.whl.metadata (17 kB)\n",
            "Requirement already satisfied: PyYAML in /usr/local/lib/python3.11/dist-packages (6.0.2)\n",
            "Requirement already satisfied: deprecated>=1.2.18 in /usr/local/lib/python3.11/dist-packages (from pymisp) (1.2.18)\n",
            "Collecting python-dateutil\n",
            "  Downloading python_dateutil-2.9.0.post0-py2.py3-none-any.whl.metadata (8.4 kB)\n",
            "Requirement already satisfied: requests>=2.32.3 in /usr/local/lib/python3.11/dist-packages (from pymisp) (2.32.3)\n",
            "Requirement already satisfied: six>=1.5 in /usr/local/lib/python3.11/dist-packages (from python-dateutil) (1.17.0)\n",
            "Requirement already satisfied: wrapt<2,>=1.10 in /usr/local/lib/python3.11/dist-packages (from deprecated>=1.2.18->pymisp) (1.17.2)\n",
            "Requirement already satisfied: charset-normalizer<4,>=2 in /usr/local/lib/python3.11/dist-packages (from requests>=2.32.3->pymisp) (3.4.1)\n",
            "Requirement already satisfied: idna<4,>=2.5 in /usr/local/lib/python3.11/dist-packages (from requests>=2.32.3->pymisp) (3.10)\n",
            "Requirement already satisfied: urllib3<3,>=1.21.1 in /usr/local/lib/python3.11/dist-packages (from requests>=2.32.3->pymisp) (2.3.0)\n",
            "Requirement already satisfied: certifi>=2017.4.17 in /usr/local/lib/python3.11/dist-packages (from requests>=2.32.3->pymisp) (2025.1.31)\n",
            "Downloading pymisp-2.5.8.1-py3-none-any.whl (478 kB)\n",
            "\u001b[2K   \u001b[90m━━━━━━━━━━━━━━━━━━━━━━━━━━━━━━━━━━━━━━━━\u001b[0m \u001b[32m478.6/478.6 kB\u001b[0m \u001b[31m11.7 MB/s\u001b[0m eta \u001b[36m0:00:00\u001b[0m\n",
            "\u001b[?25hDownloading python_dateutil-2.9.0.post0-py2.py3-none-any.whl (229 kB)\n",
            "\u001b[2K   \u001b[90m━━━━━━━━━━━━━━━━━━━━━━━━━━━━━━━━━━━━━━━━\u001b[0m \u001b[32m229.9/229.9 kB\u001b[0m \u001b[31m7.3 MB/s\u001b[0m eta \u001b[36m0:00:00\u001b[0m\n",
            "\u001b[?25hDownloading validators-0.34.0-py3-none-any.whl (43 kB)\n",
            "\u001b[2K   \u001b[90m━━━━━━━━━━━━━━━━━━━━━━━━━━━━━━━━━━━━━━━━\u001b[0m \u001b[32m43.5/43.5 kB\u001b[0m \u001b[31m2.0 MB/s\u001b[0m eta \u001b[36m0:00:00\u001b[0m\n",
            "\u001b[?25hDownloading ipaddress-1.0.23-py2.py3-none-any.whl (18 kB)\n",
            "Downloading colorama-0.4.6-py2.py3-none-any.whl (25 kB)\n",
            "Installing collected packages: ipaddress, validators, python-dateutil, colorama, pymisp\n",
            "  Attempting uninstall: python-dateutil\n",
            "    Found existing installation: python-dateutil 2.8.2\n",
            "    Uninstalling python-dateutil-2.8.2:\n",
            "      Successfully uninstalled python-dateutil-2.8.2\n",
            "Successfully installed colorama-0.4.6 ipaddress-1.0.23 pymisp-2.5.8.1 python-dateutil-2.9.0.post0 validators-0.34.0\n"
          ]
        },
        {
          "output_type": "display_data",
          "data": {
            "application/vnd.colab-display-data+json": {
              "pip_warning": {
                "packages": [
                  "dateutil",
                  "ipaddress"
                ]
              },
              "id": "c5092665fe2b4966a8819e75fb8c93cf"
            }
          },
          "metadata": {}
        }
      ]
    }
  ]
}